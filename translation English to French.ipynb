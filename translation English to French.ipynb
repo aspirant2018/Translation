{
  "nbformat": 4,
  "nbformat_minor": 0,
  "metadata": {
    "colab": {
      "provenance": [],
      "gpuType": "T4"
    },
    "kernelspec": {
      "name": "python3",
      "display_name": "Python 3"
    },
    "language_info": {
      "name": "python"
    },
    "accelerator": "GPU"
  },
  "cells": [
    {
      "cell_type": "markdown",
      "source": [
        "# Mazouz Abderahim, LAB4 , Master 1\n",
        "\n",
        "\n",
        "---\n",
        "---\n",
        "\n"
      ],
      "metadata": {
        "id": "IcBrAscQr1kx"
      }
    },
    {
      "cell_type": "markdown",
      "source": [
        "\n",
        "# Pre-processing Data\n",
        "\n",
        "\n",
        "\n"
      ],
      "metadata": {
        "id": "oJ8PU1pFjloV"
      }
    },
    {
      "cell_type": "code",
      "source": [
        "import re\n",
        "import json"
      ],
      "metadata": {
        "id": "fuPWg_mnr3_j"
      },
      "execution_count": 8,
      "outputs": []
    },
    {
      "cell_type": "code",
      "source": [
        "# Read the Jason file all the content\n",
        "\n",
        "def readfile(path):\n",
        "  with open(path,\"r\") as file:\n",
        "    return file.readlines()"
      ],
      "metadata": {
        "id": "cgdXVNuqJ_5F"
      },
      "execution_count": 9,
      "outputs": []
    },
    {
      "cell_type": "code",
      "source": [
        "'''\n",
        "  Source_to_ref is function that returns a Dict\n",
        "    - keys are the source sentence in English\n",
        "    - values are the target language in French\n",
        "'''\n",
        "\n",
        "def source_to_ref(content):\n",
        "  src_to_ref = {}\n",
        "  for line in lines:\n",
        "    data = json.loads(line)\n",
        "    for key,value in data.items():\n",
        "      if key == \"reference\":\n",
        "        ref = data[key]\n",
        "      if key==\"source\":\n",
        "        src =data[key]\n",
        "    src_to_ref[src]=ref\n",
        "  return src_to_ref"
      ],
      "metadata": {
        "id": "h8czwy3uNpzr"
      },
      "execution_count": 10,
      "outputs": []
    },
    {
      "cell_type": "code",
      "source": [
        "lines = readfile(\"/content/sample_data/Challenge_set-v2hA.json\")\n",
        "\n",
        "src_to_ref = source_to_ref(lines)\n"
      ],
      "metadata": {
        "id": "UTmOw64ND4ZF"
      },
      "execution_count": 11,
      "outputs": []
    },
    {
      "cell_type": "markdown",
      "source": [
        "## Which translation model is used when using an HuggingFace translation pipeline ?\n",
        "## by default the google-t5/t5-base model is used\n"
      ],
      "metadata": {
        "id": "2QQgNZ9npg0M"
      }
    },
    {
      "cell_type": "code",
      "source": [
        "from transformers import pipeline"
      ],
      "metadata": {
        "id": "5Bbl5Og7zegX"
      },
      "execution_count": 50,
      "outputs": []
    },
    {
      "cell_type": "code",
      "source": [
        "translator = pipeline(\"translation_en_to_fr\")"
      ],
      "metadata": {
        "id": "u1F3Zsei1N3t"
      },
      "execution_count": null,
      "outputs": []
    },
    {
      "cell_type": "code",
      "source": [
        "import time\n",
        "\n",
        "start_time = time.time() # To calculate the time execution\n",
        "\n",
        "\n",
        "predictions = []\n",
        "references = []\n",
        "\n",
        "for reference in src_to_ref.values():\n",
        "\n",
        "  references.append(reference)\n",
        "  predicted_text = translator(reference)\n",
        "  predictions.append(predicted_text[0]['translation_text'])\n",
        "\n",
        "\n",
        "print(\"\\n--- %s seconds ---\" % (time.time() - start_time))"
      ],
      "metadata": {
        "id": "hsfYBe_m1w0r",
        "colab": {
          "base_uri": "https://localhost:8080/"
        },
        "outputId": "4412678b-05e1-4e35-9b04-5fd047709031"
      },
      "execution_count": 73,
      "outputs": [
        {
          "output_type": "stream",
          "name": "stdout",
          "text": [
            "\n",
            "--- 279.65117359161377 seconds ---\n"
          ]
        }
      ]
    },
    {
      "cell_type": "code",
      "source": [
        "for i in range(4):\n",
        "  print(\"refrence sentence:  \",references[i])\n",
        "  print(\"predicted sentence: \",predictions[i])"
      ],
      "metadata": {
        "colab": {
          "base_uri": "https://localhost:8080/"
        },
        "id": "hDXFmT5tilUP",
        "outputId": "a6ed5d1e-c7fd-482c-e391-f2132442a451"
      },
      "execution_count": 81,
      "outputs": [
        {
          "output_type": "stream",
          "name": "stdout",
          "text": [
            "refrence sentence:   Les appels répétés de sa mère [auraient] dû nous alerter.\n",
            "predicted sentence:  Les appels répétés de sa mère [auraient] dû nous alerter.\n",
            "refrence sentence:   Le bruit soudain dans les chambres supérieures [aurait] dû nous alerter.\n",
            "predicted sentence:  Le bruit dans les chambres supérieures aurait dû nous alerter.\n",
            "refrence sentence:   Leurs échecs répétés à signaler le problème [auraient] dû nous alerter.\n",
            "predicted sentence:  Les échecs répétés à signaler le problème [auraient] dû nous alerter.\n",
            "refrence sentence:   Elle a demandé à son frère de ne pas se montrer [arrogant].\n",
            "predicted sentence:  Elle a demandé à son frère de ne pas se montrer [arrogant].\n"
          ]
        }
      ]
    },
    {
      "cell_type": "markdown",
      "source": [
        "### THE Blue Score when using HuggingFace translation pipeline:"
      ],
      "metadata": {
        "id": "aiFTG4GpEFJp"
      }
    },
    {
      "cell_type": "code",
      "source": [
        "!pip install sacrebleu"
      ],
      "metadata": {
        "id": "sq0yb8RKEEAn"
      },
      "execution_count": null,
      "outputs": []
    },
    {
      "cell_type": "code",
      "source": [
        "import evaluate\n",
        "\n",
        "sacrebleu = evaluate.load(\"sacrebleu\")\n",
        "results = sacrebleu.compute(predictions=predictions, references=references)\n",
        "\n",
        "print(f\"The Blue Score ==> {results['score']}\")"
      ],
      "metadata": {
        "colab": {
          "base_uri": "https://localhost:8080/"
        },
        "id": "VOb7cA0KKnIy",
        "outputId": "4640d9a8-1f1a-4ee0-9125-27d46aaec902"
      },
      "execution_count": 53,
      "outputs": [
        {
          "output_type": "stream",
          "name": "stdout",
          "text": [
            "The Blue Score ==> 95.0735179697016\n"
          ]
        }
      ]
    },
    {
      "cell_type": "markdown",
      "source": [
        "# Mistral LLM:"
      ],
      "metadata": {
        "id": "Q4uB8VtuqMsS"
      }
    },
    {
      "cell_type": "markdown",
      "source": [
        "## Loading the Model"
      ],
      "metadata": {
        "id": "I5hMip0Fhe_U"
      }
    },
    {
      "cell_type": "code",
      "source": [
        "from transformers import AutoModelForCausalLM, AutoTokenizer\n",
        "from transformers import pipeline\n",
        "import torch"
      ],
      "metadata": {
        "id": "wdec7RA9qRXb"
      },
      "execution_count": 1,
      "outputs": []
    },
    {
      "cell_type": "code",
      "source": [
        "!pip install accelerate"
      ],
      "metadata": {
        "id": "2Hy8vGfr3J2b"
      },
      "execution_count": null,
      "outputs": []
    },
    {
      "cell_type": "code",
      "source": [
        "model_name = \"mistralai/Mistral-7B-v0.1\"\n",
        "\n",
        "\n",
        "model = AutoModelForCausalLM.from_pretrained(model_name,\n",
        "                                             torch_dtype=torch.float16,\n",
        "                                             device_map=\"cuda\",\n",
        "                                             low_cpu_mem_usage=True\n",
        "                                            )"
      ],
      "metadata": {
        "id": "j7f7FM8kuQpa"
      },
      "execution_count": null,
      "outputs": []
    },
    {
      "cell_type": "code",
      "source": [
        "tokenizer = AutoTokenizer.from_pretrained(model_name)"
      ],
      "metadata": {
        "id": "5VWagyXWrBjL"
      },
      "execution_count": null,
      "outputs": []
    },
    {
      "cell_type": "code",
      "source": [
        "pipe = pipeline(\n",
        "    \"text-generation\",\n",
        "    model = model,\n",
        "    tokenizer = tokenizer,\n",
        "    torch_dtype = torch.bfloat16,\n",
        "    )"
      ],
      "metadata": {
        "id": "Jn7_AGdbtVi3"
      },
      "execution_count": 5,
      "outputs": []
    },
    {
      "cell_type": "code",
      "source": [
        "import re\n",
        "\n",
        "'''\n",
        "  get_translation is a function that it is used to extract the translated sentence from\n",
        "  the generated text by LLM\n",
        "'''\n",
        "def get_translation(text):\n",
        "\n",
        "  pattern = r'\"([^\"]*)\"'\n",
        "  matches = re.findall(pattern, text)\n",
        "\n",
        "  prediction = matches[3]\n",
        "\n",
        "\n",
        "  return prediction"
      ],
      "metadata": {
        "id": "WPAPMcarFa9R"
      },
      "execution_count": 6,
      "outputs": []
    },
    {
      "cell_type": "markdown",
      "source": [
        " ## Translating 108 sentence"
      ],
      "metadata": {
        "id": "JD8ybaoqhwkX"
      }
    },
    {
      "cell_type": "code",
      "source": [
        "import time\n",
        "\n",
        "start_time = time.time() # To calculate the time execution\n",
        "\n",
        "# English and French texts are used for the few shot\n",
        "English_text = \"I'am student\"\n",
        "French_translation = \"je suis etudiant\"\n",
        "\n",
        "predictions = []\n",
        "references = []\n",
        "\n",
        "\n",
        "for source,reference in src_to_ref.items():\n",
        "\n",
        "  references.append(reference)\n",
        "\n",
        "  prompt = f''' English 1: \"{English_text}\": French 1: \"{French_translation}\"; English 2: \"{source}\": French 2: '''\n",
        "  translated_text = pipe(prompt,max_new_tokens=50)\n",
        "\n",
        "  prediction = get_translation(translated_text[0][\"generated_text\"])\n",
        "  predictions.append(prediction)\n",
        "\n",
        "time = (time.time() - start_time)\n",
        "\n",
        "print(f\"\\n--- {time} seconds ---\")\n",
        "\n",
        "\n"
      ],
      "metadata": {
        "colab": {
          "base_uri": "https://localhost:8080/"
        },
        "id": "6e7HZbtrbi5b",
        "outputId": "eaa81c7e-2d82-4090-b4ff-ea80ad3fb06e"
      },
      "execution_count": 12,
      "outputs": [
        {
          "output_type": "stream",
          "name": "stderr",
          "text": [
            "Setting `pad_token_id` to `eos_token_id`:2 for open-end generation.\n",
            "Setting `pad_token_id` to `eos_token_id`:2 for open-end generation.\n",
            "Setting `pad_token_id` to `eos_token_id`:2 for open-end generation.\n",
            "Setting `pad_token_id` to `eos_token_id`:2 for open-end generation.\n",
            "Setting `pad_token_id` to `eos_token_id`:2 for open-end generation.\n",
            "Setting `pad_token_id` to `eos_token_id`:2 for open-end generation.\n",
            "Setting `pad_token_id` to `eos_token_id`:2 for open-end generation.\n",
            "Setting `pad_token_id` to `eos_token_id`:2 for open-end generation.\n",
            "Setting `pad_token_id` to `eos_token_id`:2 for open-end generation.\n",
            "Setting `pad_token_id` to `eos_token_id`:2 for open-end generation.\n",
            "/usr/local/lib/python3.10/dist-packages/transformers/pipelines/base.py:1157: UserWarning: You seem to be using the pipelines sequentially on GPU. In order to maximize efficiency please use a dataset\n",
            "  warnings.warn(\n",
            "Setting `pad_token_id` to `eos_token_id`:2 for open-end generation.\n",
            "Setting `pad_token_id` to `eos_token_id`:2 for open-end generation.\n",
            "Setting `pad_token_id` to `eos_token_id`:2 for open-end generation.\n",
            "Setting `pad_token_id` to `eos_token_id`:2 for open-end generation.\n",
            "Setting `pad_token_id` to `eos_token_id`:2 for open-end generation.\n",
            "Setting `pad_token_id` to `eos_token_id`:2 for open-end generation.\n",
            "Setting `pad_token_id` to `eos_token_id`:2 for open-end generation.\n",
            "Setting `pad_token_id` to `eos_token_id`:2 for open-end generation.\n",
            "Setting `pad_token_id` to `eos_token_id`:2 for open-end generation.\n",
            "Setting `pad_token_id` to `eos_token_id`:2 for open-end generation.\n",
            "Setting `pad_token_id` to `eos_token_id`:2 for open-end generation.\n",
            "Setting `pad_token_id` to `eos_token_id`:2 for open-end generation.\n",
            "Setting `pad_token_id` to `eos_token_id`:2 for open-end generation.\n",
            "Setting `pad_token_id` to `eos_token_id`:2 for open-end generation.\n",
            "Setting `pad_token_id` to `eos_token_id`:2 for open-end generation.\n",
            "Setting `pad_token_id` to `eos_token_id`:2 for open-end generation.\n",
            "Setting `pad_token_id` to `eos_token_id`:2 for open-end generation.\n",
            "Setting `pad_token_id` to `eos_token_id`:2 for open-end generation.\n",
            "Setting `pad_token_id` to `eos_token_id`:2 for open-end generation.\n",
            "Setting `pad_token_id` to `eos_token_id`:2 for open-end generation.\n",
            "Setting `pad_token_id` to `eos_token_id`:2 for open-end generation.\n",
            "Setting `pad_token_id` to `eos_token_id`:2 for open-end generation.\n",
            "Setting `pad_token_id` to `eos_token_id`:2 for open-end generation.\n",
            "Setting `pad_token_id` to `eos_token_id`:2 for open-end generation.\n",
            "Setting `pad_token_id` to `eos_token_id`:2 for open-end generation.\n",
            "Setting `pad_token_id` to `eos_token_id`:2 for open-end generation.\n",
            "Setting `pad_token_id` to `eos_token_id`:2 for open-end generation.\n",
            "Setting `pad_token_id` to `eos_token_id`:2 for open-end generation.\n",
            "Setting `pad_token_id` to `eos_token_id`:2 for open-end generation.\n",
            "Setting `pad_token_id` to `eos_token_id`:2 for open-end generation.\n",
            "Setting `pad_token_id` to `eos_token_id`:2 for open-end generation.\n",
            "Setting `pad_token_id` to `eos_token_id`:2 for open-end generation.\n",
            "Setting `pad_token_id` to `eos_token_id`:2 for open-end generation.\n",
            "Setting `pad_token_id` to `eos_token_id`:2 for open-end generation.\n",
            "Setting `pad_token_id` to `eos_token_id`:2 for open-end generation.\n",
            "Setting `pad_token_id` to `eos_token_id`:2 for open-end generation.\n",
            "Setting `pad_token_id` to `eos_token_id`:2 for open-end generation.\n",
            "Setting `pad_token_id` to `eos_token_id`:2 for open-end generation.\n",
            "Setting `pad_token_id` to `eos_token_id`:2 for open-end generation.\n",
            "Setting `pad_token_id` to `eos_token_id`:2 for open-end generation.\n",
            "Setting `pad_token_id` to `eos_token_id`:2 for open-end generation.\n",
            "Setting `pad_token_id` to `eos_token_id`:2 for open-end generation.\n",
            "Setting `pad_token_id` to `eos_token_id`:2 for open-end generation.\n",
            "Setting `pad_token_id` to `eos_token_id`:2 for open-end generation.\n",
            "Setting `pad_token_id` to `eos_token_id`:2 for open-end generation.\n",
            "Setting `pad_token_id` to `eos_token_id`:2 for open-end generation.\n",
            "Setting `pad_token_id` to `eos_token_id`:2 for open-end generation.\n",
            "Setting `pad_token_id` to `eos_token_id`:2 for open-end generation.\n",
            "Setting `pad_token_id` to `eos_token_id`:2 for open-end generation.\n",
            "Setting `pad_token_id` to `eos_token_id`:2 for open-end generation.\n",
            "Setting `pad_token_id` to `eos_token_id`:2 for open-end generation.\n",
            "Setting `pad_token_id` to `eos_token_id`:2 for open-end generation.\n",
            "Setting `pad_token_id` to `eos_token_id`:2 for open-end generation.\n",
            "Setting `pad_token_id` to `eos_token_id`:2 for open-end generation.\n",
            "Setting `pad_token_id` to `eos_token_id`:2 for open-end generation.\n",
            "Setting `pad_token_id` to `eos_token_id`:2 for open-end generation.\n",
            "Setting `pad_token_id` to `eos_token_id`:2 for open-end generation.\n",
            "Setting `pad_token_id` to `eos_token_id`:2 for open-end generation.\n",
            "Setting `pad_token_id` to `eos_token_id`:2 for open-end generation.\n",
            "Setting `pad_token_id` to `eos_token_id`:2 for open-end generation.\n",
            "Setting `pad_token_id` to `eos_token_id`:2 for open-end generation.\n",
            "Setting `pad_token_id` to `eos_token_id`:2 for open-end generation.\n",
            "Setting `pad_token_id` to `eos_token_id`:2 for open-end generation.\n",
            "Setting `pad_token_id` to `eos_token_id`:2 for open-end generation.\n",
            "Setting `pad_token_id` to `eos_token_id`:2 for open-end generation.\n",
            "Setting `pad_token_id` to `eos_token_id`:2 for open-end generation.\n",
            "Setting `pad_token_id` to `eos_token_id`:2 for open-end generation.\n",
            "Setting `pad_token_id` to `eos_token_id`:2 for open-end generation.\n",
            "Setting `pad_token_id` to `eos_token_id`:2 for open-end generation.\n",
            "Setting `pad_token_id` to `eos_token_id`:2 for open-end generation.\n",
            "Setting `pad_token_id` to `eos_token_id`:2 for open-end generation.\n",
            "Setting `pad_token_id` to `eos_token_id`:2 for open-end generation.\n",
            "Setting `pad_token_id` to `eos_token_id`:2 for open-end generation.\n",
            "Setting `pad_token_id` to `eos_token_id`:2 for open-end generation.\n",
            "Setting `pad_token_id` to `eos_token_id`:2 for open-end generation.\n",
            "Setting `pad_token_id` to `eos_token_id`:2 for open-end generation.\n",
            "Setting `pad_token_id` to `eos_token_id`:2 for open-end generation.\n",
            "Setting `pad_token_id` to `eos_token_id`:2 for open-end generation.\n",
            "Setting `pad_token_id` to `eos_token_id`:2 for open-end generation.\n",
            "Setting `pad_token_id` to `eos_token_id`:2 for open-end generation.\n",
            "Setting `pad_token_id` to `eos_token_id`:2 for open-end generation.\n",
            "Setting `pad_token_id` to `eos_token_id`:2 for open-end generation.\n",
            "Setting `pad_token_id` to `eos_token_id`:2 for open-end generation.\n",
            "Setting `pad_token_id` to `eos_token_id`:2 for open-end generation.\n",
            "Setting `pad_token_id` to `eos_token_id`:2 for open-end generation.\n",
            "Setting `pad_token_id` to `eos_token_id`:2 for open-end generation.\n",
            "Setting `pad_token_id` to `eos_token_id`:2 for open-end generation.\n",
            "Setting `pad_token_id` to `eos_token_id`:2 for open-end generation.\n",
            "Setting `pad_token_id` to `eos_token_id`:2 for open-end generation.\n",
            "Setting `pad_token_id` to `eos_token_id`:2 for open-end generation.\n",
            "Setting `pad_token_id` to `eos_token_id`:2 for open-end generation.\n",
            "Setting `pad_token_id` to `eos_token_id`:2 for open-end generation.\n",
            "Setting `pad_token_id` to `eos_token_id`:2 for open-end generation.\n",
            "Setting `pad_token_id` to `eos_token_id`:2 for open-end generation.\n",
            "Setting `pad_token_id` to `eos_token_id`:2 for open-end generation.\n",
            "Setting `pad_token_id` to `eos_token_id`:2 for open-end generation.\n",
            "Setting `pad_token_id` to `eos_token_id`:2 for open-end generation.\n",
            "Setting `pad_token_id` to `eos_token_id`:2 for open-end generation.\n"
          ]
        },
        {
          "output_type": "stream",
          "name": "stdout",
          "text": [
            "\n",
            "--- 357.51153540611267 seconds ---\n"
          ]
        }
      ]
    },
    {
      "cell_type": "code",
      "source": [
        "print(f\"Execution time of 108 sentence : --- {time} ---\")"
      ],
      "metadata": {
        "colab": {
          "base_uri": "https://localhost:8080/"
        },
        "id": "ame7zSqMgrLP",
        "outputId": "612b70fd-83e9-4215-c1de-89d63db5517a"
      },
      "execution_count": 13,
      "outputs": [
        {
          "output_type": "stream",
          "name": "stdout",
          "text": [
            "Execution time of 108 sentence : --- 357.51153540611267 ---\n"
          ]
        }
      ]
    },
    {
      "cell_type": "code",
      "source": [
        "for i in range(4):\n",
        "  print(\"refrence sentence:  \",references[i])\n",
        "  print(\"predicted sentence: \",predictions[i])"
      ],
      "metadata": {
        "colab": {
          "base_uri": "https://localhost:8080/"
        },
        "id": "0W1wIQplAvfR",
        "outputId": "22242f23-cac8-4ae6-9e6f-ec873a6ee34d"
      },
      "execution_count": 79,
      "outputs": [
        {
          "output_type": "stream",
          "name": "stdout",
          "text": [
            "refrence sentence:   Les appels répétés de sa mère [auraient] dû nous alerter.\n",
            "predicted sentence:  Les appels répétés de sa mère [auraient] dû nous alerter.\n",
            "refrence sentence:   Le bruit soudain dans les chambres supérieures [aurait] dû nous alerter.\n",
            "predicted sentence:  Le bruit dans les chambres supérieures aurait dû nous alerter.\n",
            "refrence sentence:   Leurs échecs répétés à signaler le problème [auraient] dû nous alerter.\n",
            "predicted sentence:  Les échecs répétés à signaler le problème [auraient] dû nous alerter.\n",
            "refrence sentence:   Elle a demandé à son frère de ne pas se montrer [arrogant].\n",
            "predicted sentence:  Elle a demandé à son frère de ne pas se montrer [arrogant].\n"
          ]
        }
      ]
    },
    {
      "cell_type": "markdown",
      "source": [
        "## The score of mistralai/Mistral-7B-v0.1 model"
      ],
      "metadata": {
        "id": "Rg3XdNrQhkOg"
      }
    },
    {
      "cell_type": "code",
      "source": [
        "results = sacrebleu.compute(predictions=predictions, references=references)\n",
        "\n",
        "print(f\"The Blue Score ==> {results['score']}\")"
      ],
      "metadata": {
        "colab": {
          "base_uri": "https://localhost:8080/"
        },
        "id": "8t_wv6uBP_xO",
        "outputId": "f596b372-75fb-40a7-bd7c-915fe7622dc1"
      },
      "execution_count": 49,
      "outputs": [
        {
          "output_type": "stream",
          "name": "stdout",
          "text": [
            "The Blue Score ==> 25.40877657338304\n"
          ]
        }
      ]
    },
    {
      "cell_type": "markdown",
      "source": [
        "# Visualation and conclusion"
      ],
      "metadata": {
        "id": "a8xKM_WoeDWj"
      }
    },
    {
      "cell_type": "code",
      "source": [
        "import matplotlib.pyplot as plt\n",
        "\n",
        "# Data for time taken to translate 108 sentences\n",
        "time = [357, 253]\n",
        "time_labels = ['google-t5/t5-base', 'Mistral LLM']\n",
        "\n",
        "# Data for model scores\n",
        "scores = [95, 25]\n",
        "score_labels = ['google-t5/t5-base', 'Mistral LLM']\n",
        "\n",
        "# Plot for time\n",
        "plt.figure(figsize=(10, 5))\n",
        "plt.subplot(1, 2, 1)  # Subplot 1\n",
        "plt.bar(time_labels, time, color=['blue', 'green'])\n",
        "plt.title('Time to Translate 108 Sentences')\n",
        "plt.xlabel('Model')\n",
        "plt.ylabel('Seconds')\n",
        "\n",
        "# Plot for scores\n",
        "plt.subplot(1, 2, 2)  # Subplot 2\n",
        "plt.bar(score_labels, scores, color=['blue', 'green'])\n",
        "plt.title('Model Scores')\n",
        "plt.xlabel('Model')\n",
        "plt.ylabel('Values')\n",
        "\n",
        "# Add a conclusion\n",
        "plt.suptitle('Comparison between Model Performance')\n",
        "plt.tight_layout(rect=[0, 0.03, 1, 0.95])  # Adjust layout\n",
        "plt.show()\n"
      ],
      "metadata": {
        "colab": {
          "base_uri": "https://localhost:8080/",
          "height": 443
        },
        "id": "fj5cvT5gRcH6",
        "outputId": "01ed77d8-841b-4326-c69c-ea8b1f33633a"
      },
      "execution_count": 14,
      "outputs": [
        {
          "output_type": "display_data",
          "data": {
            "text/plain": [
              "<Figure size 1000x500 with 2 Axes>"
            ],
            "image/png": "[encoded data removed]"
          },
          "metadata": {}
        }
      ]
    },
    {
      "cell_type": "markdown",
      "source": [
        "After comparing the performance of the 'google-t5/t5-base' and 'Mistral LLM' models, several observations can be made:\n",
        "\n",
        "\n",
        "*   The 'google-t5/t5-base' model received a higher score and faster compared to the 'Mistral LLM' model\n",
        "\n",
        "\n"
      ],
      "metadata": {
        "id": "Sbq_qKqldw8g"
      }
    }
  ]
}